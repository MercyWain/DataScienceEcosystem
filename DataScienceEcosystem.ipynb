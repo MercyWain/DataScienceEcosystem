{
 "cells": [
  {
   "cell_type": "markdown",
   "id": "6005013b-563e-480a-a453-33c6850e2f56",
   "metadata": {},
   "source": [
    "<center>\n",
    "    <img src=\"https://cf-courses-data.s3.us.cloud-object-storage.appdomain.cloud/IBMDeveloperSkillsNetwork-DS0105EN-SkillsNetwork/labs/Module2/images/SN_web_lightmode.png\" width=\"300\" alt=\"cognitiveclass.ai logo\">\n",
    "</center>\n"
   ]
  },
  {
   "cell_type": "markdown",
   "id": "a700328c-4c2a-49ed-869f-581343f1701e",
   "metadata": {},
   "source": [
    "#### Add your code below following the instructions given in the course"
   ]
  },
  {
   "cell_type": "markdown",
   "id": "5d840927-8a95-4aea-b98d-0a95be3f040e",
   "metadata": {},
   "source": [
    "# Data Science Tools and Ecosystem"
   ]
  },
  {
   "cell_type": "markdown",
   "id": "5f0f18e9-d1a7-46c3-a79d-852274c2f554",
   "metadata": {},
   "source": [
    "In this notebook, Data Science Tools and Ecosystem are summarized."
   ]
  },
  {
   "cell_type": "markdown",
   "id": "023b6d6d-c403-4c1a-bba5-72123fcf406a",
   "metadata": {},
   "source": [
    "**Objectives:**\n",
    "+ List popular languages for Data Science.\n",
    "+ List commonly used libraries used by Data Scientists.\n",
    "+ Write a code expression converting minutes to hours."
   ]
  },
  {
   "cell_type": "markdown",
   "id": "c20edf63-2d32-4649-9a5e-48fa63b8a1e2",
   "metadata": {},
   "source": [
    "Some of the popular languages that Data Scientist use are:\n",
    "1. Python\n",
    "2. R\n",
    "3. Scala\n",
    "4. Julia"
   ]
  },
  {
   "cell_type": "markdown",
   "id": "6fbf5425-a112-4970-8e46-1e5789f1f514",
   "metadata": {},
   "source": [
    "Some of the commonly used libraries used by Data Scientists include:\n",
    "1. Numpy\n",
    "2. Matplotlib\n",
    "3. Scipy\n",
    "4. Plotly\n",
    "5. Pandas"
   ]
  },
  {
   "cell_type": "markdown",
   "id": "036abb59-401b-4c32-bcfe-f7ca1fed3020",
   "metadata": {},
   "source": [
    "| Data Science Tools |\n",
    "|--------|\n",
    "| Jupyter Notebook|\n",
    "| JupyterLab |\n",
    "| Rstudio |"
   ]
  },
  {
   "cell_type": "markdown",
   "id": "d73b4cec-ef5e-4fc0-a60e-ec3f77420775",
   "metadata": {},
   "source": [
    "### Below are a few examples of evaluating arithmetic expressions in Python"
   ]
  },
  {
   "cell_type": "code",
   "execution_count": 2,
   "id": "32542472-6838-49da-b3d9-18651cf35511",
   "metadata": {},
   "outputs": [
    {
     "data": {
      "text/plain": [
       "17"
      ]
     },
     "execution_count": 2,
     "metadata": {},
     "output_type": "execute_result"
    }
   ],
   "source": [
    "#This is a simple arithmetic expression to multiply then add integers.\n",
    "(3*4)+5"
   ]
  },
  {
   "cell_type": "code",
   "execution_count": 16,
   "id": "d357167e-22b4-4f16-ab54-53d089b8dde3",
   "metadata": {},
   "outputs": [
    {
     "name": "stdout",
     "output_type": "stream",
     "text": [
      "3.3333333333333335\n"
     ]
    }
   ],
   "source": [
    "#This will convert 200 minutes to hours by diving by 60.\n",
    "hours = 200 / 60\n",
    "print(hours)"
   ]
  },
  {
   "cell_type": "markdown",
   "id": "03b73715-91f8-4c48-b62c-f55a8d9b5d5d",
   "metadata": {},
   "source": [
    "## Author\n",
    "Mercy Njeri Wainaina"
   ]
  }
 ],
 "metadata": {
  "kernelspec": {
   "display_name": "Python 3 (ipykernel)",
   "language": "python",
   "name": "python3"
  },
  "language_info": {
   "codemirror_mode": {
    "name": "ipython",
    "version": 3
   },
   "file_extension": ".py",
   "mimetype": "text/x-python",
   "name": "python",
   "nbconvert_exporter": "python",
   "pygments_lexer": "ipython3",
   "version": "3.12.8"
  }
 },
 "nbformat": 4,
 "nbformat_minor": 5
}
