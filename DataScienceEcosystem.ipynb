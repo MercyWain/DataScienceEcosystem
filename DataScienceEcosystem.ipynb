{
 "cells": [
  {
   "cell_type": "markdown",
   "id": "5d840927-8a95-4aea-b98d-0a95be3f040e",
   "metadata": {},
   "source": [
    "# Data Science Tools and Ecosystem"
   ]
  },
  {
   "cell_type": "markdown",
   "id": "5f0f18e9-d1a7-46c3-a79d-852274c2f554",
   "metadata": {},
   "source": [
    "In this notebook, Data Science Tools and Ecosystem are summarized."
   ]
  },
  {
   "cell_type": "markdown",
   "id": "023b6d6d-c403-4c1a-bba5-72123fcf406a",
   "metadata": {},
   "source": [
    "**Objectives:**\n",
    "+ List popular languages for Data Science.\n",
    "+ List commonly used libraries used by Data Scientists.\n",
    "+ Write a code expression converting minutes to hours."
   ]
  },
  {
   "cell_type": "code",
   "execution_count": null,
   "id": "47740d66-f92d-468c-b0af-b7d12915a05f",
   "metadata": {},
   "outputs": [],
   "source": []
  },
  {
   "cell_type": "markdown",
   "id": "c20edf63-2d32-4649-9a5e-48fa63b8a1e2",
   "metadata": {},
   "source": [
    "Some of the popular languages that Data Scientist use are:\n",
    "1. Python\n",
    "2. R\n",
    "3. Scala\n",
    "4. Julia"
   ]
  },
  {
   "cell_type": "markdown",
   "id": "6fbf5425-a112-4970-8e46-1e5789f1f514",
   "metadata": {},
   "source": [
    "Some of the commonly used libraries used by Data Scientists include:\n",
    "1. Numpy\n",
    "2. Matplotlib\n",
    "3. Scipy\n",
    "4. Plotly\n",
    "5. Pandas"
   ]
  },
  {
   "cell_type": "markdown",
   "id": "036abb59-401b-4c32-bcfe-f7ca1fed3020",
   "metadata": {},
   "source": [
    "| Data Science Tools |\n",
    "|--------|\n",
    "| Jupyter Notebook|\n",
    "| JupyterLab |\n",
    "| Rstudio |"
   ]
  },
  {
   "cell_type": "code",
   "execution_count": null,
   "id": "4cbf5db9-c078-47fd-b404-db0b8176d2f8",
   "metadata": {},
   "outputs": [],
   "source": []
  },
  {
   "cell_type": "markdown",
   "id": "d73b4cec-ef5e-4fc0-a60e-ec3f77420775",
   "metadata": {},
   "source": [
    "### Below are a few examples of evaluating arithmetic expressions in Python"
   ]
  },
  {
   "cell_type": "code",
   "execution_count": 12,
   "id": "7f6ad714-2f73-460f-89a0-ad9e3e242dce",
   "metadata": {},
   "outputs": [
    {
     "data": {
      "text/plain": [
       "17"
      ]
     },
     "execution_count": 12,
     "metadata": {},
     "output_type": "execute_result"
    }
   ],
   "source": [
    "# This a simple arithmetic expression to mutiply then add integers.\n",
    "(3*4)+5\n"
   ]
  },
  {
   "cell_type": "code",
   "execution_count": null,
   "id": "67726af3-bc8a-413c-8d57-0547668e8b4b",
   "metadata": {},
   "outputs": [],
   "source": []
  },
  {
   "cell_type": "code",
   "execution_count": 16,
   "id": "d357167e-22b4-4f16-ab54-53d089b8dde3",
   "metadata": {},
   "outputs": [
    {
     "name": "stdout",
     "output_type": "stream",
     "text": [
      "3.3333333333333335\n"
     ]
    }
   ],
   "source": [
    "#This will convert 200 minutes to hours by diving by 60.\n",
    "hours = 200 / 60\n",
    "print(hours)"
   ]
  },
  {
   "cell_type": "markdown",
   "id": "03b73715-91f8-4c48-b62c-f55a8d9b5d5d",
   "metadata": {},
   "source": [
    "## Author\n",
    "Mercy Njeri Wainaina"
   ]
  },
  {
   "cell_type": "code",
   "execution_count": null,
   "id": "0d8a063f-ed88-4b86-b90e-6233252fd944",
   "metadata": {},
   "outputs": [],
   "source": []
  }
 ],
 "metadata": {
  "kernelspec": {
   "display_name": "Python [conda env:RP_Env]",
   "language": "python",
   "name": "conda-env-RP_Env-py"
  },
  "language_info": {
   "codemirror_mode": {
    "name": "ipython",
    "version": 3
   },
   "file_extension": ".py",
   "mimetype": "text/x-python",
   "name": "python",
   "nbconvert_exporter": "python",
   "pygments_lexer": "ipython3",
   "version": "3.12.9"
  }
 },
 "nbformat": 4,
 "nbformat_minor": 5
}
